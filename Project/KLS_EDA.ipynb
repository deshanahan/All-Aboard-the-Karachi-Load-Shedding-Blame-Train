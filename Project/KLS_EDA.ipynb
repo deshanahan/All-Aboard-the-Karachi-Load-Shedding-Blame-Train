{
 "cells": [
  {
   "cell_type": "markdown",
   "metadata": {},
   "source": [
    "# KLS Exploratory Data Analysis"
   ]
  },
  {
   "cell_type": "markdown",
   "metadata": {},
   "source": [
    "First, we import the modules that we will need and the variables that we will use from the KLS_Data python script."
   ]
  },
  {
   "cell_type": "code",
   "execution_count": 259,
   "metadata": {},
   "outputs": [],
   "source": [
    "import pandas as pd\n",
    "import numpy as np\n",
    "from KLS_Data import name_set_list, blamed_list, karachi_ls_df, kls_df"
   ]
  },
  {
   "cell_type": "markdown",
   "metadata": {},
   "source": [
    "This function gets us a list of the lengths of the name sets."
   ]
  },
  {
   "cell_type": "code",
   "execution_count": 260,
   "metadata": {},
   "outputs": [],
   "source": [
    "def name_set_length_lister(name_set_list):\n",
    "    '''Returns a list of the lengths of a passed iterable.'''\n",
    "    name_set_length_list = [len(name_set) for name_set in name_set_list]\n",
    "    return name_set_length_list"
   ]
  },
  {
   "cell_type": "markdown",
   "metadata": {},
   "source": [
    "There does not appear to be any inconsistency in the data."
   ]
  },
  {
   "cell_type": "code",
   "execution_count": 261,
   "metadata": {},
   "outputs": [
    {
     "name": "stdout",
     "output_type": "stream",
     "text": [
      "<class 'pandas.core.frame.DataFrame'>\n",
      "Index: 75 entries, Tweeter0 to Tweeter74\n",
      "Data columns (total 8 columns):\n",
      " #   Column            Non-Null Count  Dtype\n",
      "---  ------            --------------  -----\n",
      " 0   Karachi Electric  75 non-null     int64\n",
      " 1   Imran Khan        75 non-null     int64\n",
      " 2   Asad Umar         75 non-null     int64\n",
      " 3   NEPRA             75 non-null     int64\n",
      " 4   Sui Gas           75 non-null     int64\n",
      " 5   Naeem Rehman      75 non-null     int64\n",
      " 6   Omar Ayub Khan    75 non-null     int64\n",
      " 7   Tehreeki Insaaf   75 non-null     int64\n",
      "dtypes: int64(8)\n",
      "memory usage: 7.8+ KB\n"
     ]
    }
   ],
   "source": [
    "kls_df.T.info()"
   ]
  },
  {
   "cell_type": "markdown",
   "metadata": {},
   "source": [
    "There are a few instances in the data where entities were just blamed a few times.  Four entities are sticking out with the highest percentage of tweets blaming them compared to tweets not blaming them: Karachi Electric, NEPRA, Sui Gas, and Tehreeki Insaaf."
   ]
  },
  {
   "cell_type": "code",
   "execution_count": 262,
   "metadata": {},
   "outputs": [
    {
     "data": {
      "text/plain": [
       "<matplotlib.axes._subplots.AxesSubplot at 0x2ebb60a5f70>"
      ]
     },
     "execution_count": 262,
     "metadata": {},
     "output_type": "execute_result"
    },
    {
     "data": {
      "image/png": "[encoded data removed]",
      "text/plain": [
       "<Figure size 432x288 with 1 Axes>"
      ]
     },
     "metadata": {
      "needs_background": "light"
     },
     "output_type": "display_data"
    }
   ],
   "source": [
    "blamed_percent = pd.DataFrame([kls_df.loc[blamed].value_counts\\\n",
    "                               (normalize = True) for blamed in kls_df.T])\n",
    "blamed_percent.plot.bar()"
   ]
  },
  {
   "cell_type": "markdown",
   "metadata": {},
   "source": [
    "This code finds the number of times the entities were blamed in the new search."
   ]
  },
  {
   "cell_type": "code",
   "execution_count": 263,
   "metadata": {},
   "outputs": [
    {
     "name": "stdout",
     "output_type": "stream",
     "text": [
      "{'Karachi Electric': 15, 'Imran Khan': 3, 'Asad Umar': 0, 'NEPRA': 15, 'Sui Gas': 1, 'Naeem Rehman': 0, 'Omar Ayub Khan': 2, 'Tehreeki Insaaf': 15}\n"
     ]
    }
   ],
   "source": [
    "# Find the length of the name_set_list\n",
    "name_set_lengths = name_set_length_lister(name_set_list)\n",
    "\n",
    "# Create a dictionary of the blamed entities and the number of times each entity is blamed\n",
    "blamed_dict = dict(zip(blamed_list, name_set_lengths))\n",
    "print(blamed_dict)"
   ]
  },
  {
   "cell_type": "markdown",
   "metadata": {},
   "source": [
    "This code finds the percentage of times the entities were blamed in the new search."
   ]
  },
  {
   "cell_type": "code",
   "execution_count": 265,
   "metadata": {},
   "outputs": [
    {
     "data": {
      "text/plain": [
       "0    0.9375\n",
       "1    0.1875\n",
       "2    0.0000\n",
       "3    0.9375\n",
       "4    0.0625\n",
       "5    0.0000\n",
       "6    0.1250\n",
       "7    0.9375\n",
       "dtype: float64"
      ]
     },
     "execution_count": 265,
     "metadata": {},
     "output_type": "execute_result"
    }
   ],
   "source": [
    "# Create a pandas Series out of the dictionary\n",
    "times_blamed = pd.Series(blamed_dict)\n",
    "\n",
    "new_search_percentage = pd.Series(times_blamed.values/len(karachi_ls_df.columns))\n",
    "new_search_percentage"
   ]
  },
  {
   "cell_type": "markdown",
   "metadata": {},
   "source": [
    "We can see some telling differences in the percentage of times the entities were blamed overall and the percentage of times the entities were blamed in the new search.  With the exception of Sui Gas, all of the entities with high percentages of blames received a higher percentage of blames in the new search relative to the overall search.  This anomaly can probably be explained by a large protest against load-shedding in Karachi when the initial searches were conducted, which helped to distribute the blames differently. "
   ]
  },
  {
   "cell_type": "code",
   "execution_count": 266,
   "metadata": {},
   "outputs": [
    {
     "data": {
      "text/plain": [
       "<matplotlib.axes._subplots.AxesSubplot at 0x2ebb614dee0>"
      ]
     },
     "execution_count": 266,
     "metadata": {},
     "output_type": "execute_result"
    },
    {
     "data": {
      "image/png": "[encoded data removed]",
      "text/plain": [
       "<Figure size 432x288 with 1 Axes>"
      ]
     },
     "metadata": {
      "needs_background": "light"
     },
     "output_type": "display_data"
    }
   ],
   "source": [
    "blamed_percent['new_search_percentage'] = new_search_percentage.values\n",
    "blamed_percent = blamed_percent.drop(columns = 0)\n",
    "blamed_percent.columns = ['Overall Percent', 'New Search Percent']\n",
    "blamed_percent.plot.bar()"
   ]
  },
  {
   "cell_type": "markdown",
   "metadata": {},
   "source": [
    "This dataset contains 175 total blames and the average number of times the entities have been blamed in the dataset is about 22."
   ]
  },
  {
   "cell_type": "code",
   "execution_count": 267,
   "metadata": {},
   "outputs": [
    {
     "name": "stdout",
     "output_type": "stream",
     "text": [
      "The total times all entities in the dataset have been blamed for load shedding in Karachi, Pakistan is 175.\n",
      "The average number of times the entities in the dataset have been blamed for load shedding in Karachi, Pakistan is 21.875.\n"
     ]
    }
   ],
   "source": [
    "# Print the total and average of the times_blamed Series\n",
    "\n",
    "blamed_num = pd.DataFrame([kls_df.loc[blamed].value_counts\\\n",
    "                               () for blamed in kls_df.T])\n",
    "\n",
    "print(f'The total times all entities in the dataset have been blamed for load shedding in Karachi, Pakistan is {sum(blamed_num[1])}.')\n",
    "print(f'The average number of times the entities in the dataset have been blamed for load shedding in Karachi, Pakistan is {np.mean(blamed_num[1])}.')\n"
   ]
  },
  {
   "cell_type": "markdown",
   "metadata": {},
   "source": [
    "The dataset is not normalized."
   ]
  },
  {
   "cell_type": "code",
   "execution_count": 268,
   "metadata": {},
   "outputs": [
    {
     "data": {
      "text/plain": [
       "<matplotlib.axes._subplots.AxesSubplot at 0x2ebb4e82cd0>"
      ]
     },
     "execution_count": 268,
     "metadata": {},
     "output_type": "execute_result"
    },
    {
     "data": {
      "image/png": "[encoded data removed]",
      "text/plain": [
       "<Figure size 432x288 with 1 Axes>"
      ]
     },
     "metadata": {
      "needs_background": "light"
     },
     "output_type": "display_data"
    }
   ],
   "source": [
    "# Plot a histogram of the times_blamed Series\n",
    "blamed_num[1].plot.hist()"
   ]
  },
  {
   "cell_type": "markdown",
   "metadata": {},
   "source": [
    "If we remove the entities that were blamed less than 25% of the time, our dataset becomes much more normalized."
   ]
  },
  {
   "cell_type": "code",
   "execution_count": 269,
   "metadata": {},
   "outputs": [
    {
     "data": {
      "text/plain": [
       "<matplotlib.axes._subplots.AxesSubplot at 0x2ebb62c1d90>"
      ]
     },
     "execution_count": 269,
     "metadata": {},
     "output_type": "execute_result"
    },
    {
     "data": {
      "image/png": "[encoded data removed]",
      "text/plain": [
       "<Figure size 432x288 with 1 Axes>"
      ]
     },
     "metadata": {
      "needs_background": "light"
     },
     "output_type": "display_data"
    }
   ],
   "source": [
    "# Drop a few rows of the times_blamed Series to make it more normalized\n",
    "blamed_percent.drop(blamed_percent[blamed_percent['Overall Percent']\\\n",
    "                                   < 0.25].index, inplace = True)\n",
    "blamed_percent['Overall Percent'].plot.hist()"
   ]
  },
  {
   "cell_type": "markdown",
   "metadata": {},
   "source": [
    "The entity with the highest percentage of the blames is Karachi Electric, followed by NEPRA and Tehreeki Insaaf. Due to the anomaly of Sui Gas being blamed less after the large protest, Sui Gas has a lower overall percentage of the blames than the other entities who were blamed the most."
   ]
  },
  {
   "cell_type": "code",
   "execution_count": 270,
   "metadata": {},
   "outputs": [
    {
     "data": {
      "text/plain": [
       "<matplotlib.axes._subplots.AxesSubplot at 0x2ebb6337970>"
      ]
     },
     "execution_count": 270,
     "metadata": {},
     "output_type": "execute_result"
    },
    {
     "data": {
      "image/png": "[encoded data removed]",
      "text/plain": [
       "<Figure size 432x288 with 1 Axes>"
      ]
     },
     "metadata": {
      "needs_background": "light"
     },
     "output_type": "display_data"
    }
   ],
   "source": [
    "# Plot a bar chart for the times_blamed Series\n",
    "blamed_percent['Overall Percent'].plot.bar(legend = False)"
   ]
  },
  {
   "cell_type": "markdown",
   "metadata": {},
   "source": [
    "In this cell, we are taking a sample of 10 columns."
   ]
  },
  {
   "cell_type": "code",
   "execution_count": 278,
   "metadata": {},
   "outputs": [],
   "source": [
    "# Create a separate dataframe consisting of 10 random samples of the columns\n",
    "sample_kls_df = kls_df.sample(n=10, axis=1)"
   ]
  },
  {
   "cell_type": "markdown",
   "metadata": {},
   "source": [
    "In this cell, we find the False/True value counts of the sample."
   ]
  },
  {
   "cell_type": "code",
   "execution_count": 279,
   "metadata": {},
   "outputs": [
    {
     "name": "stdout",
     "output_type": "stream",
     "text": [
      "(array([0, 1]), array([68, 12], dtype=int64))\n"
     ]
    }
   ],
   "source": [
    "# Find a count of all True values and all False values in the sample\n",
    "unique_sample = np.unique(sample_kls_df, return_counts = True)\n",
    "print(unique_sample)"
   ]
  },
  {
   "cell_type": "markdown",
   "metadata": {},
   "source": [
    "According to the sample, it is much more likely for an entity not to be blamed than for it to be blamed."
   ]
  },
  {
   "cell_type": "code",
   "execution_count": 280,
   "metadata": {},
   "outputs": [
    {
     "data": {
      "text/plain": [
       "[Text(0, 0.5, 'Occurences in sample'), Text(0.5, 0, 'True/False')]"
      ]
     },
     "execution_count": 280,
     "metadata": {},
     "output_type": "execute_result"
    },
    {
     "data": {
      "image/png": "[encoded data removed]",
      "text/plain": [
       "<Figure size 432x288 with 1 Axes>"
      ]
     },
     "metadata": {
      "needs_background": "light"
     },
     "output_type": "display_data"
    }
   ],
   "source": [
    "# Create a dataframe out of the True/False numpy array\n",
    "unique_sample_df = pd.DataFrame(unique_sample)\n",
    "\n",
    "# Rename the columns after the first row\n",
    "unique_sample_df.rename(columns=unique_sample_df.iloc[0], inplace = True)\n",
    "\n",
    "# Remove the old first row\n",
    "unique_sample_df.drop([0], inplace = True)\n",
    "\n",
    "# Create a bar chart out of the False/True sample\n",
    "ax = unique_sample_df.plot.bar(title = 'Who is Being Blamed for Load Shedding in Karachi: True/False Samples')\n",
    "ax.set(xlabel = 'True/False', ylabel = 'Occurences in sample')"
   ]
  },
  {
   "cell_type": "markdown",
   "metadata": {},
   "source": [
    "In this cell, we find the unique False/True values of all entities in the dataset. "
   ]
  },
  {
   "cell_type": "code",
   "execution_count": 281,
   "metadata": {},
   "outputs": [
    {
     "name": "stdout",
     "output_type": "stream",
     "text": [
      "('Karachi Electric:', (array([0, 1], dtype=int64), array([26, 49], dtype=int64)))\n",
      "('Imran Khan:', (array([0, 1], dtype=int64), array([67,  8], dtype=int64)))\n",
      "('Asad Umar:', (array([0, 1], dtype=int64), array([71,  4], dtype=int64)))\n",
      "('NEPRA:', (array([0, 1], dtype=int64), array([34, 41], dtype=int64)))\n",
      "('Sui Gas:', (array([0, 1], dtype=int64), array([48, 27], dtype=int64)))\n",
      "('Naeem Rehman:', (array([0, 1], dtype=int64), array([73,  2], dtype=int64)))\n",
      "('Omar Ayub Khan:', (array([0, 1], dtype=int64), array([72,  3], dtype=int64)))\n",
      "('Tehreeki Insaaf:', (array([0, 1], dtype=int64), array([34, 41], dtype=int64)))\n"
     ]
    }
   ],
   "source": [
    "# Find who is being blamed the most\n",
    "def who_is_to_blame(alist, df):\n",
    "    '''Iterates over a list and prints the item in the list followed by \n",
    "    unique counts in a numpy array.'''\n",
    "    for b in alist:\n",
    "        array = f'{b}:', np.unique(df.loc[b], return_counts = True)\n",
    "        print(array)\n",
    "\n",
    "who_is_to_blame(blamed_list, kls_df)"
   ]
  },
  {
   "cell_type": "markdown",
   "metadata": {},
   "source": [
    "We now construct a new DataFrame by explicitly dropping the entities that have not been blamed enough."
   ]
  },
  {
   "cell_type": "code",
   "execution_count": 282,
   "metadata": {},
   "outputs": [
    {
     "data": {
      "text/html": [
       "<div>\n",
       "<style scoped>\n",
       "    .dataframe tbody tr th:only-of-type {\n",
       "        vertical-align: middle;\n",
       "    }\n",
       "\n",
       "    .dataframe tbody tr th {\n",
       "        vertical-align: top;\n",
       "    }\n",
       "\n",
       "    .dataframe thead th {\n",
       "        text-align: right;\n",
       "    }\n",
       "</style>\n",
       "<table border=\"1\" class=\"dataframe\">\n",
       "  <thead>\n",
       "    <tr style=\"text-align: right;\">\n",
       "      <th></th>\n",
       "      <th>Tweeter0</th>\n",
       "      <th>Tweeter1</th>\n",
       "      <th>Tweeter2</th>\n",
       "      <th>Tweeter3</th>\n",
       "      <th>Tweeter4</th>\n",
       "      <th>Tweeter5</th>\n",
       "      <th>Tweeter6</th>\n",
       "      <th>Tweeter7</th>\n",
       "      <th>Tweeter8</th>\n",
       "      <th>Tweeter9</th>\n",
       "      <th>...</th>\n",
       "      <th>Tweeter65</th>\n",
       "      <th>Tweeter66</th>\n",
       "      <th>Tweeter67</th>\n",
       "      <th>Tweeter68</th>\n",
       "      <th>Tweeter69</th>\n",
       "      <th>Tweeter70</th>\n",
       "      <th>Tweeter71</th>\n",
       "      <th>Tweeter72</th>\n",
       "      <th>Tweeter73</th>\n",
       "      <th>Tweeter74</th>\n",
       "    </tr>\n",
       "    <tr>\n",
       "      <th>Blamed</th>\n",
       "      <th></th>\n",
       "      <th></th>\n",
       "      <th></th>\n",
       "      <th></th>\n",
       "      <th></th>\n",
       "      <th></th>\n",
       "      <th></th>\n",
       "      <th></th>\n",
       "      <th></th>\n",
       "      <th></th>\n",
       "      <th></th>\n",
       "      <th></th>\n",
       "      <th></th>\n",
       "      <th></th>\n",
       "      <th></th>\n",
       "      <th></th>\n",
       "      <th></th>\n",
       "      <th></th>\n",
       "      <th></th>\n",
       "      <th></th>\n",
       "      <th></th>\n",
       "    </tr>\n",
       "  </thead>\n",
       "  <tbody>\n",
       "    <tr>\n",
       "      <th>Karachi Electric</th>\n",
       "      <td>1</td>\n",
       "      <td>1</td>\n",
       "      <td>1</td>\n",
       "      <td>1</td>\n",
       "      <td>1</td>\n",
       "      <td>1</td>\n",
       "      <td>1</td>\n",
       "      <td>1</td>\n",
       "      <td>1</td>\n",
       "      <td>1</td>\n",
       "      <td>...</td>\n",
       "      <td>1</td>\n",
       "      <td>1</td>\n",
       "      <td>1</td>\n",
       "      <td>1</td>\n",
       "      <td>1</td>\n",
       "      <td>1</td>\n",
       "      <td>1</td>\n",
       "      <td>1</td>\n",
       "      <td>1</td>\n",
       "      <td>1</td>\n",
       "    </tr>\n",
       "    <tr>\n",
       "      <th>NEPRA</th>\n",
       "      <td>1</td>\n",
       "      <td>1</td>\n",
       "      <td>1</td>\n",
       "      <td>1</td>\n",
       "      <td>1</td>\n",
       "      <td>1</td>\n",
       "      <td>1</td>\n",
       "      <td>1</td>\n",
       "      <td>1</td>\n",
       "      <td>1</td>\n",
       "      <td>...</td>\n",
       "      <td>1</td>\n",
       "      <td>1</td>\n",
       "      <td>1</td>\n",
       "      <td>1</td>\n",
       "      <td>1</td>\n",
       "      <td>1</td>\n",
       "      <td>1</td>\n",
       "      <td>1</td>\n",
       "      <td>1</td>\n",
       "      <td>1</td>\n",
       "    </tr>\n",
       "    <tr>\n",
       "      <th>Sui Gas</th>\n",
       "      <td>0</td>\n",
       "      <td>0</td>\n",
       "      <td>0</td>\n",
       "      <td>1</td>\n",
       "      <td>0</td>\n",
       "      <td>0</td>\n",
       "      <td>0</td>\n",
       "      <td>0</td>\n",
       "      <td>0</td>\n",
       "      <td>0</td>\n",
       "      <td>...</td>\n",
       "      <td>0</td>\n",
       "      <td>0</td>\n",
       "      <td>0</td>\n",
       "      <td>0</td>\n",
       "      <td>0</td>\n",
       "      <td>0</td>\n",
       "      <td>0</td>\n",
       "      <td>0</td>\n",
       "      <td>0</td>\n",
       "      <td>0</td>\n",
       "    </tr>\n",
       "    <tr>\n",
       "      <th>Tehreeki Insaaf</th>\n",
       "      <td>1</td>\n",
       "      <td>1</td>\n",
       "      <td>1</td>\n",
       "      <td>1</td>\n",
       "      <td>1</td>\n",
       "      <td>1</td>\n",
       "      <td>1</td>\n",
       "      <td>1</td>\n",
       "      <td>1</td>\n",
       "      <td>1</td>\n",
       "      <td>...</td>\n",
       "      <td>1</td>\n",
       "      <td>1</td>\n",
       "      <td>1</td>\n",
       "      <td>1</td>\n",
       "      <td>1</td>\n",
       "      <td>1</td>\n",
       "      <td>1</td>\n",
       "      <td>1</td>\n",
       "      <td>1</td>\n",
       "      <td>1</td>\n",
       "    </tr>\n",
       "  </tbody>\n",
       "</table>\n",
       "<p>4 rows × 75 columns</p>\n",
       "</div>"
      ],
      "text/plain": [
       "                  Tweeter0  Tweeter1  Tweeter2  Tweeter3  Tweeter4  Tweeter5  \\\n",
       "Blamed                                                                         \n",
       "Karachi Electric         1         1         1         1         1         1   \n",
       "NEPRA                    1         1         1         1         1         1   \n",
       "Sui Gas                  0         0         0         1         0         0   \n",
       "Tehreeki Insaaf          1         1         1         1         1         1   \n",
       "\n",
       "                  Tweeter6  Tweeter7  Tweeter8  Tweeter9  ...  Tweeter65  \\\n",
       "Blamed                                                    ...              \n",
       "Karachi Electric         1         1         1         1  ...          1   \n",
       "NEPRA                    1         1         1         1  ...          1   \n",
       "Sui Gas                  0         0         0         0  ...          0   \n",
       "Tehreeki Insaaf          1         1         1         1  ...          1   \n",
       "\n",
       "                  Tweeter66  Tweeter67  Tweeter68  Tweeter69  Tweeter70  \\\n",
       "Blamed                                                                    \n",
       "Karachi Electric          1          1          1          1          1   \n",
       "NEPRA                     1          1          1          1          1   \n",
       "Sui Gas                   0          0          0          0          0   \n",
       "Tehreeki Insaaf           1          1          1          1          1   \n",
       "\n",
       "                  Tweeter71  Tweeter72  Tweeter73  Tweeter74  \n",
       "Blamed                                                        \n",
       "Karachi Electric          1          1          1          1  \n",
       "NEPRA                     1          1          1          1  \n",
       "Sui Gas                   0          0          0          0  \n",
       "Tehreeki Insaaf           1          1          1          1  \n",
       "\n",
       "[4 rows x 75 columns]"
      ]
     },
     "execution_count": 282,
     "metadata": {},
     "output_type": "execute_result"
    }
   ],
   "source": [
    "# Create a new dataframe with only the entities that we want\n",
    "new_kls_df = kls_df.drop('Imran Khan').drop('Asad Umar').drop('Naeem Rehman').drop('Omar Ayub Khan')\n",
    "new_kls_df"
   ]
  },
  {
   "cell_type": "markdown",
   "metadata": {},
   "source": [
    "In this cell, we remove some of the noise from the previous who_is_to_blame function to see the differences in the number of False and True values. "
   ]
  },
  {
   "cell_type": "code",
   "execution_count": 283,
   "metadata": {},
   "outputs": [
    {
     "name": "stdout",
     "output_type": "stream",
     "text": [
      "('Karachi Electric:', (array([0, 1], dtype=int64), array([26, 49], dtype=int64)))\n",
      "('NEPRA:', (array([0, 1], dtype=int64), array([34, 41], dtype=int64)))\n",
      "('Sui Gas:', (array([0, 1], dtype=int64), array([48, 27], dtype=int64)))\n",
      "('Tehreeki Insaaf:', (array([0, 1], dtype=int64), array([34, 41], dtype=int64)))\n"
     ]
    }
   ],
   "source": [
    "new_blamed_list = ['Karachi Electric', 'NEPRA', 'Sui Gas', 'Tehreeki Insaaf']\n",
    "\n",
    "# Call who_is_to_blame function on the new list and dataframe\n",
    "who_is_to_blame(new_blamed_list, new_kls_df)"
   ]
  }
 ],
 "metadata": {
  "kernelspec": {
   "display_name": "Python 3",
   "language": "python",
   "name": "python3"
  },
  "language_info": {
   "codemirror_mode": {
    "name": "ipython",
    "version": 3
   },
   "file_extension": ".py",
   "mimetype": "text/x-python",
   "name": "python",
   "nbconvert_exporter": "python",
   "pygments_lexer": "ipython3",
   "version": "3.8.3"
  }
 },
 "nbformat": 4,
 "nbformat_minor": 4
}
