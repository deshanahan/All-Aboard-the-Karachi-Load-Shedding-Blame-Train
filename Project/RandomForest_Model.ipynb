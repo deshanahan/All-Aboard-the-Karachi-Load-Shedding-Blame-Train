{
 "cells": [
  {
   "cell_type": "markdown",
   "metadata": {},
   "source": [
    "# Random Forest Model"
   ]
  },
  {
   "cell_type": "markdown",
   "metadata": {},
   "source": [
    "Last accessed December 6, 2020."
   ]
  },
  {
   "cell_type": "code",
   "execution_count": 8,
   "metadata": {},
   "outputs": [],
   "source": [
    "from sklearn.ensemble import RandomForestClassifier\n",
    "from sklearn.model_selection import cross_validate\n",
    "from KLS_Train_Test_Split import others_blamed_train, others_blamed_test, ke_train, ke_test\n"
   ]
  },
  {
   "cell_type": "markdown",
   "metadata": {},
   "source": [
    "Fitting the random forest model."
   ]
  },
  {
   "cell_type": "code",
   "execution_count": 2,
   "metadata": {},
   "outputs": [
    {
     "data": {
      "text/plain": [
       "RandomForestClassifier(n_estimators=10, random_state=1)"
      ]
     },
     "execution_count": 2,
     "metadata": {},
     "output_type": "execute_result"
    }
   ],
   "source": [
    "forest_class = RandomForestClassifier(n_estimators = 10, random_state = 1)\n",
    "forest_class.fit(others_blamed_train, ke_train)"
   ]
  },
  {
   "cell_type": "markdown",
   "metadata": {},
   "source": [
    "Using five fold cross-validation on the model."
   ]
  },
  {
   "cell_type": "code",
   "execution_count": 3,
   "metadata": {},
   "outputs": [
    {
     "data": {
      "text/plain": [
       "{'fit_time': array([0.01898909, 0.01800966, 0.01696992, 0.02498555, 0.01798987]),\n",
       " 'score_time': array([0.00199842, 0.00199842, 0.00199866, 0.00199866, 0.00199866]),\n",
       " 'estimator': (RandomForestClassifier(n_estimators=10, random_state=1),\n",
       "  RandomForestClassifier(n_estimators=10, random_state=1),\n",
       "  RandomForestClassifier(n_estimators=10, random_state=1),\n",
       "  RandomForestClassifier(n_estimators=10, random_state=1),\n",
       "  RandomForestClassifier(n_estimators=10, random_state=1)),\n",
       " 'test_score': array([0.45454545, 0.5       , 0.7       , 0.7       , 0.6       ]),\n",
       " 'train_score': array([0.7       , 0.63414634, 0.65853659, 0.65853659, 0.68292683])}"
      ]
     },
     "execution_count": 3,
     "metadata": {},
     "output_type": "execute_result"
    }
   ],
   "source": [
    "five_fold_forest_select = cross_validate(estimator = forest_class, X = others_blamed_train, y = ke_train, cv = 5, return_estimator = True, return_train_score = True)\n",
    "five_fold_forest_select"
   ]
  },
  {
   "cell_type": "markdown",
   "metadata": {},
   "source": [
    "The model was about 59.1% accurate."
   ]
  },
  {
   "cell_type": "code",
   "execution_count": 4,
   "metadata": {},
   "outputs": [
    {
     "name": "stdout",
     "output_type": "stream",
     "text": [
      "Random Forest 5 fold cv results (Accuracy) 0.591 +/- 0.101\n"
     ]
    }
   ],
   "source": [
    "# Find the mean and standard deviation of the decision tree model's test scores\n",
    "forest_select_mean = five_fold_forest_select['test_score'].mean()\n",
    "\n",
    "forest_select_std = five_fold_forest_select['test_score'].std()\n",
    "\n",
    "# Print the results of the mean and standard deviation for the decision tree model's test scores\n",
    "print('Random Forest 5 fold cv results (Accuracy) %.3f +/- %.3f'%(forest_select_mean, forest_select_std))"
   ]
  },
  {
   "cell_type": "markdown",
   "metadata": {},
   "source": [
    "After optimizing the n_estimators parameter and adjusting the class_weight parameter to value True answers more than False answers, the random forest model's accuracy and standard deviation improved."
   ]
  },
  {
   "cell_type": "code",
   "execution_count": 12,
   "metadata": {},
   "outputs": [
    {
     "name": "stdout",
     "output_type": "stream",
     "text": [
      "Random Forest 5 fold cv results (Accuracy) 0.631 +/- 0.096\n"
     ]
    }
   ],
   "source": [
    "forest_class2 = RandomForestClassifier(n_estimators = 50, class_weight = {1: 5}, random_state = 1)\n",
    "forest_class2.fit(others_blamed_train, ke_train)\n",
    "\n",
    "five_fold_forest_select2 = cross_validate(estimator = forest_class2, X = others_blamed_train, y = ke_train, cv = 5, return_estimator = True, return_train_score = True)\n",
    "five_fold_forest_select2\n",
    "\n",
    "# Find the mean and standard deviation of the decision tree model's test scores\n",
    "forest_select_mean2 = five_fold_forest_select2['test_score'].mean()\n",
    "\n",
    "forest_select_std2 = five_fold_forest_select2['test_score'].std()\n",
    "\n",
    "# Print the results of the mean and standard deviation for the decision tree model's test scores\n",
    "print('Random Forest 5 fold cv results (Accuracy) %.3f +/- %.3f'%(forest_select_mean2, forest_select_std2))"
   ]
  },
  {
   "cell_type": "markdown",
   "metadata": {},
   "source": [
    "The random forest model predicted that all of the below scenarios would result in Karachi Electric being blamed."
   ]
  },
  {
   "cell_type": "code",
   "execution_count": 6,
   "metadata": {},
   "outputs": [
    {
     "name": "stdout",
     "output_type": "stream",
     "text": [
      "No others blamed: [1]\n",
      "Just NEPRA blamed: [1]\n",
      "Just SUI Gas blamed: [1]\n",
      "Just Tehreeki Insaaf blamed: [1]\n"
     ]
    }
   ],
   "source": [
    "print(f'No others blamed: {forest_class2.predict([[0, 0, 0]])}')\n",
    "print(f'Just NEPRA blamed: {forest_class2.predict([[1, 0, 0]])}')\n",
    "print(f'Just SUI Gas blamed: {forest_class2.predict([[0, 1, 0]])}')\n",
    "print(f'Just Tehreeki Insaaf blamed: {forest_class2.predict([[0, 0, 1]])}')"
   ]
  },
  {
   "cell_type": "markdown",
   "metadata": {},
   "source": [
    "According to the random forest model, there is a 91% probability that Karachi Electric will be blamed if nobody else is blamed, a 83% probability if only NEPRA is blamed, a 92% probability if only Sui Gas is blamed, and nearly a 100% probability if only Tehreeki Insaaf is blamed."
   ]
  },
  {
   "cell_type": "code",
   "execution_count": 7,
   "metadata": {},
   "outputs": [
    {
     "name": "stdout",
     "output_type": "stream",
     "text": [
      "No others blamed: [[0.09189609 0.90810391]]\n",
      "Just NEPRA blamed: [[0.17309464 0.82690536]]\n",
      "Just SUI Gas blamed: [[0.08023582 0.91976418]]\n",
      "Just Tehreeki Insaaf blamed: [[0.00333333 0.99666667]]\n"
     ]
    }
   ],
   "source": [
    "print(f'No others blamed: {forest_class2.predict_proba([[0, 0, 0]])}')\n",
    "print(f'Just NEPRA blamed: {forest_class2.predict_proba([[1, 0, 0]])}')\n",
    "print(f'Just SUI Gas blamed: {forest_class2.predict_proba([[0, 1, 0]])}')\n",
    "print(f'Just Tehreeki Insaaf blamed: {forest_class2.predict_proba([[0, 0, 1]])}')"
   ]
  }
 ],
 "metadata": {
  "kernelspec": {
   "display_name": "Python 3",
   "language": "python",
   "name": "python3"
  },
  "language_info": {
   "codemirror_mode": {
    "name": "ipython",
    "version": 3
   },
   "file_extension": ".py",
   "mimetype": "text/x-python",
   "name": "python",
   "nbconvert_exporter": "python",
   "pygments_lexer": "ipython3",
   "version": "3.8.3"
  }
 },
 "nbformat": 4,
 "nbformat_minor": 4
}
