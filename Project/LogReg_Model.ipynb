{
 "cells": [
  {
   "cell_type": "code",
   "execution_count": 8,
   "metadata": {},
   "outputs": [],
   "source": [
    "from sklearn.linear_model import LogisticRegression\n",
    "from sklearn.model_selection import cross_validate\n",
    "import numpy as np\n",
    "from KLS_Train_Test_Split import others_blamed_train, others_blamed_test,\\\n",
    "ke_train, ke_test\n"
   ]
  },
  {
   "cell_type": "markdown",
   "metadata": {},
   "source": [
    "Fitting the logistic regression model."
   ]
  },
  {
   "cell_type": "code",
   "execution_count": 2,
   "metadata": {},
   "outputs": [
    {
     "data": {
      "text/plain": [
       "LogisticRegression(penalty='none', random_state=1)"
      ]
     },
     "execution_count": 2,
     "metadata": {},
     "output_type": "execute_result"
    }
   ],
   "source": [
    "# Logistic Regression model\n",
    "\n",
    "logreg = LogisticRegression(penalty = 'none', random_state = 1)\n",
    "logreg.fit(others_blamed_train, ke_train)"
   ]
  },
  {
   "cell_type": "markdown",
   "metadata": {},
   "source": [
    "Five-fold cross-validation on the logistic regression model."
   ]
  },
  {
   "cell_type": "code",
   "execution_count": 3,
   "metadata": {},
   "outputs": [
    {
     "data": {
      "text/plain": [
       "{'fit_time': array([0.00499558, 0.00801206, 0.00499654, 0.00699258, 0.00399494]),\n",
       " 'score_time': array([0.00100017, 0.        , 0.        , 0.        , 0.        ]),\n",
       " 'estimator': (LogisticRegression(penalty='none', random_state=1),\n",
       "  LogisticRegression(penalty='none', random_state=1),\n",
       "  LogisticRegression(penalty='none', random_state=1),\n",
       "  LogisticRegression(penalty='none', random_state=1),\n",
       "  LogisticRegression(penalty='none', random_state=1)),\n",
       " 'test_score': array([0.63636364, 0.63636364, 0.63636364, 0.8       , 0.7       ]),\n",
       " 'train_score': array([0.66666667, 0.71428571, 0.71428571, 0.6744186 , 0.65116279])}"
      ]
     },
     "execution_count": 3,
     "metadata": {},
     "output_type": "execute_result"
    }
   ],
   "source": [
    "# Model Selection using Cross Validation on logistic regression model\n",
    "\n",
    "five_fold_log_select = cross_validate(estimator = logreg, X = others_blamed_train, y = ke_train, cv = 5, return_estimator = True, return_train_score = True)\n",
    "five_fold_log_select"
   ]
  },
  {
   "cell_type": "markdown",
   "metadata": {},
   "source": [
    "In this cell, we find the mean and standard deviation of the logistic regression model's test scores."
   ]
  },
  {
   "cell_type": "code",
   "execution_count": 4,
   "metadata": {},
   "outputs": [
    {
     "name": "stdout",
     "output_type": "stream",
     "text": [
      "Logistic Regression 5 fold cv results (Accuracy) 0.682 +/- 0.064\n"
     ]
    }
   ],
   "source": [
    "# Find the mean and standard deviation of the logistic regression model's test scores\n",
    "log_select_mean = five_fold_log_select['test_score'].mean()\n",
    "\n",
    "log_select_std = five_fold_log_select['test_score'].std()\n",
    "\n",
    "# Print the results of the mean and standard deviation for the logistic regression model's test scores\n",
    "print('Logistic Regression 5 fold cv results (Accuracy) %.3f +/- %.3f'%(log_select_mean, log_select_std))"
   ]
  },
  {
   "cell_type": "markdown",
   "metadata": {},
   "source": [
    "Fine tuning the model.  Applying an l2 penalty made the model less accurate.  Initial model is best."
   ]
  },
  {
   "cell_type": "code",
   "execution_count": 10,
   "metadata": {},
   "outputs": [
    {
     "name": "stdout",
     "output_type": "stream",
     "text": [
      "Logistic Regression 5 fold cv results (Accuracy) 0.662 +/- 0.031\n"
     ]
    }
   ],
   "source": [
    "# Logistic Regression model\n",
    "\n",
    "logreg2 = LogisticRegression(penalty = 'l2', random_state = 1)\n",
    "logreg2.fit(others_blamed_train, ke_train)\n",
    "\n",
    "five_fold_log_select2 = cross_validate(estimator = logreg2, X = others_blamed_train, y = ke_train, cv = 5, return_estimator = True, return_train_score = True)\n",
    "\n",
    "# Find the mean and standard deviation of the logistic regression model's test scores\n",
    "log_select_mean2 = five_fold_log_select2['test_score'].mean()\n",
    "\n",
    "log_select_std2 = five_fold_log_select2['test_score'].std()\n",
    "\n",
    "# Print the results of the mean and standard deviation for the logistic regression model's test scores\n",
    "print('Logistic Regression 5 fold cv results (Accuracy) %.3f +/- %.3f'%(log_select_mean2, log_select_std2))"
   ]
  },
  {
   "cell_type": "markdown",
   "metadata": {},
   "source": [
    "The logistic regression model predicted that all of the below scenarios would result in Karachi Electric being blamed with the exception of only NEPRA being blamed."
   ]
  },
  {
   "cell_type": "code",
   "execution_count": 12,
   "metadata": {},
   "outputs": [
    {
     "name": "stdout",
     "output_type": "stream",
     "text": [
      "No others blamed: [1]\n",
      "Just NEPRA blamed: [0]\n",
      "Just SUI Gas blamed: [1]\n",
      "Just Tehreeki Insaaf blamed: [1]\n"
     ]
    }
   ],
   "source": [
    "print(f'No others blamed: {logreg.predict([[0, 0, 0]])}')\n",
    "print(f'Just NEPRA blamed: {logreg.predict([[1, 0, 0]])}')\n",
    "print(f'Just SUI Gas blamed: {logreg.predict([[0, 1, 0]])}')\n",
    "print(f'Just Tehreeki Insaaf blamed: {logreg.predict([[0, 0, 1]])}')"
   ]
  },
  {
   "cell_type": "markdown",
   "metadata": {},
   "source": [
    "According to the logistic regression model, there is a 74% probability that Karachi Electric will be blamed if none of the other entities are blamed, a 49% probability if only NEPRA is blamed, a 87% probability if only Sui Gas is blamed, and a 65% probability if only Tehreeki Insaaf is blamed."
   ]
  },
  {
   "cell_type": "code",
   "execution_count": 11,
   "metadata": {},
   "outputs": [
    {
     "name": "stdout",
     "output_type": "stream",
     "text": [
      "No others blamed: [[0.25893646 0.74106354]]\n",
      "Just NEPRA blamed: [[0.51310805 0.48689195]]\n",
      "Just Sui Gas blamed: [[0.1335222 0.8664778]]\n",
      "Just Tehreeki Insaaf blamed: [[0.34576833 0.65423167]]\n"
     ]
    }
   ],
   "source": [
    "print(f'No others blamed: {logreg.predict_proba([[0, 0, 0]])}')\n",
    "print(f'Just NEPRA blamed: {logreg.predict_proba([[1, 0, 0]])}')\n",
    "print(f'Just Sui Gas blamed: {logreg.predict_proba([[0, 1, 0]])}')\n",
    "print(f'Just Tehreeki Insaaf blamed: {logreg.predict_proba([[0, 0, 1]])}')"
   ]
  },
  {
   "cell_type": "code",
   "execution_count": null,
   "metadata": {},
   "outputs": [],
   "source": []
  }
 ],
 "metadata": {
  "kernelspec": {
   "display_name": "Python 3",
   "language": "python",
   "name": "python3"
  },
  "language_info": {
   "codemirror_mode": {
    "name": "ipython",
    "version": 3
   },
   "file_extension": ".py",
   "mimetype": "text/x-python",
   "name": "python",
   "nbconvert_exporter": "python",
   "pygments_lexer": "ipython3",
   "version": "3.8.3"
  }
 },
 "nbformat": 4,
 "nbformat_minor": 4
}
